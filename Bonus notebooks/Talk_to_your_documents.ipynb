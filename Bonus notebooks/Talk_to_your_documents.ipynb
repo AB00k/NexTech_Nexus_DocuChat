{
  "nbformat": 4,
  "nbformat_minor": 0,
  "metadata": {
    "colab": {
      "provenance": [],
      "collapsed_sections": [
        "dNmaialXayah",
        "bbWZyvCIYNQZ",
        "Eo3uIZ26OQms"
      ]
    },
    "kernelspec": {
      "name": "python3",
      "display_name": "Python 3"
    },
    "language_info": {
      "name": "python"
    }
  },
  "cells": [
    {
      "cell_type": "markdown",
      "source": [
        "# Download Requirements"
      ],
      "metadata": {
        "id": "dNmaialXayah"
      }
    },
    {
      "cell_type": "code",
      "source": [
        "!pip install faiss-cpu"
      ],
      "metadata": {
        "colab": {
          "base_uri": "https://localhost:8080/"
        },
        "id": "7OckVPhN60_a",
        "outputId": "bca3a116-687e-4fc4-c10d-c81deee63561"
      },
      "execution_count": null,
      "outputs": [
        {
          "output_type": "stream",
          "name": "stdout",
          "text": [
            "Requirement already satisfied: faiss-cpu in /usr/local/lib/python3.10/dist-packages (1.7.4)\n"
          ]
        }
      ]
    },
    {
      "cell_type": "code",
      "source": [
        "# Install required dependencies\n",
        "!pip install clarifai"
      ],
      "metadata": {
        "colab": {
          "base_uri": "https://localhost:8080/"
        },
        "id": "nJEljc6AHubU",
        "outputId": "a82efae6-1c1c-4719-aebb-0a636d2b86d7"
      },
      "execution_count": null,
      "outputs": [
        {
          "output_type": "stream",
          "name": "stdout",
          "text": [
            "Requirement already satisfied: clarifai in /usr/local/lib/python3.10/dist-packages (9.7.5)\n",
            "Requirement already satisfied: clarifai-grpc>=9.7.3 in /usr/local/lib/python3.10/dist-packages (from clarifai) (9.7.3)\n",
            "Requirement already satisfied: tritonclient==2.34.0 in /usr/local/lib/python3.10/dist-packages (from clarifai) (2.34.0)\n",
            "Requirement already satisfied: packaging in /usr/local/lib/python3.10/dist-packages (from clarifai) (23.1)\n",
            "Collecting tqdm==4.64.1 (from clarifai)\n",
            "  Using cached tqdm-4.64.1-py2.py3-none-any.whl (78 kB)\n",
            "Requirement already satisfied: rich==13.4.2 in /usr/local/lib/python3.10/dist-packages (from clarifai) (13.4.2)\n",
            "Requirement already satisfied: markdown-it-py>=2.2.0 in /usr/local/lib/python3.10/dist-packages (from rich==13.4.2->clarifai) (3.0.0)\n",
            "Requirement already satisfied: pygments<3.0.0,>=2.13.0 in /usr/local/lib/python3.10/dist-packages (from rich==13.4.2->clarifai) (2.16.1)\n",
            "Requirement already satisfied: numpy>=1.19.1 in /usr/local/lib/python3.10/dist-packages (from tritonclient==2.34.0->clarifai) (1.23.5)\n",
            "Requirement already satisfied: python-rapidjson>=0.9.1 in /usr/local/lib/python3.10/dist-packages (from tritonclient==2.34.0->clarifai) (1.10)\n",
            "Requirement already satisfied: grpcio>=1.44.0 in /usr/local/lib/python3.10/dist-packages (from clarifai-grpc>=9.7.3->clarifai) (1.57.0)\n",
            "Requirement already satisfied: protobuf>=3.20.3 in /usr/local/lib/python3.10/dist-packages (from clarifai-grpc>=9.7.3->clarifai) (3.20.3)\n",
            "Requirement already satisfied: googleapis-common-protos>=1.53.0 in /usr/local/lib/python3.10/dist-packages (from clarifai-grpc>=9.7.3->clarifai) (1.60.0)\n",
            "Requirement already satisfied: requests>=2.25.1 in /usr/local/lib/python3.10/dist-packages (from clarifai-grpc>=9.7.3->clarifai) (2.31.0)\n",
            "Requirement already satisfied: mdurl~=0.1 in /usr/local/lib/python3.10/dist-packages (from markdown-it-py>=2.2.0->rich==13.4.2->clarifai) (0.1.2)\n",
            "Requirement already satisfied: charset-normalizer<4,>=2 in /usr/local/lib/python3.10/dist-packages (from requests>=2.25.1->clarifai-grpc>=9.7.3->clarifai) (3.2.0)\n",
            "Requirement already satisfied: idna<4,>=2.5 in /usr/local/lib/python3.10/dist-packages (from requests>=2.25.1->clarifai-grpc>=9.7.3->clarifai) (3.4)\n",
            "Requirement already satisfied: urllib3<3,>=1.21.1 in /usr/local/lib/python3.10/dist-packages (from requests>=2.25.1->clarifai-grpc>=9.7.3->clarifai) (2.0.4)\n",
            "Requirement already satisfied: certifi>=2017.4.17 in /usr/local/lib/python3.10/dist-packages (from requests>=2.25.1->clarifai-grpc>=9.7.3->clarifai) (2023.7.22)\n",
            "Installing collected packages: tqdm\n",
            "  Attempting uninstall: tqdm\n",
            "    Found existing installation: tqdm 4.66.1\n",
            "    Uninstalling tqdm-4.66.1:\n",
            "      Successfully uninstalled tqdm-4.66.1\n",
            "\u001b[31mERROR: pip's dependency resolver does not currently take into account all the packages that are installed. This behaviour is the source of the following dependency conflicts.\n",
            "chromadb 0.4.7 requires tqdm>=4.65.0, but you have tqdm 4.64.1 which is incompatible.\u001b[0m\u001b[31m\n",
            "\u001b[0mSuccessfully installed tqdm-4.64.1\n"
          ]
        },
        {
          "output_type": "display_data",
          "data": {
            "application/vnd.colab-display-data+json": {
              "pip_warning": {
                "packages": [
                  "tqdm"
                ]
              }
            }
          },
          "metadata": {}
        }
      ]
    },
    {
      "cell_type": "code",
      "source": [
        "!pip install PyMuPDF Pillow"
      ],
      "metadata": {
        "colab": {
          "base_uri": "https://localhost:8080/"
        },
        "id": "FkcOQ7PDHqBD",
        "outputId": "248b387d-b3db-4f5c-d589-734d44281792"
      },
      "execution_count": null,
      "outputs": [
        {
          "output_type": "stream",
          "name": "stdout",
          "text": [
            "Requirement already satisfied: PyMuPDF in /usr/local/lib/python3.10/dist-packages (1.23.1)\n",
            "Requirement already satisfied: Pillow in /usr/local/lib/python3.10/dist-packages (9.4.0)\n",
            "Requirement already satisfied: PyMuPDFb==1.23.0 in /usr/local/lib/python3.10/dist-packages (from PyMuPDF) (1.23.0)\n"
          ]
        }
      ]
    },
    {
      "cell_type": "code",
      "source": [
        "# !pip install sentence_transformers"
      ],
      "metadata": {
        "id": "viJ91lkqWE6j"
      },
      "execution_count": null,
      "outputs": []
    },
    {
      "cell_type": "code",
      "source": [
        "# !pip install faster_whisper\n",
        "# !pip install elevenlabs\n",
        "# !pip install ffmpeg-python\n",
        "\n",
        "!pip install pypdf\n",
        "\n",
        "!pip install PyPDF2"
      ],
      "metadata": {
        "id": "nxTbjuIIHEkM",
        "colab": {
          "base_uri": "https://localhost:8080/"
        },
        "outputId": "ac7334ab-d00f-44d5-b823-cb6b4f074e38"
      },
      "execution_count": null,
      "outputs": [
        {
          "output_type": "stream",
          "name": "stdout",
          "text": [
            "Requirement already satisfied: pypdf in /usr/local/lib/python3.10/dist-packages (3.15.3)\n",
            "Requirement already satisfied: PyPDF2 in /usr/local/lib/python3.10/dist-packages (3.0.1)\n"
          ]
        }
      ]
    },
    {
      "cell_type": "code",
      "source": [
        "# !pip install xformers\n",
        "# !pip install langchain\n",
        "# !pip install auto-gptq\n",
        "# !pip install transformers\n",
        "# !pip install bitsandbytes\n",
        "# !pip install accelerate"
      ],
      "metadata": {
        "id": "wvU1-v1AV7X7"
      },
      "execution_count": null,
      "outputs": []
    },
    {
      "cell_type": "code",
      "source": [
        "!pip install chromadb\n",
        "!pip install lark"
      ],
      "metadata": {
        "colab": {
          "base_uri": "https://localhost:8080/"
        },
        "id": "KOYSXwIyYNMs",
        "outputId": "aec98e30-0cde-41da-9324-dc1ec9e3590b"
      },
      "execution_count": null,
      "outputs": [
        {
          "output_type": "stream",
          "name": "stdout",
          "text": [
            "Requirement already satisfied: chromadb in /usr/local/lib/python3.10/dist-packages (0.4.7)\n",
            "Requirement already satisfied: requests>=2.28 in /usr/local/lib/python3.10/dist-packages (from chromadb) (2.31.0)\n",
            "Requirement already satisfied: pydantic<2.0,>=1.9 in /usr/local/lib/python3.10/dist-packages (from chromadb) (1.10.12)\n",
            "Requirement already satisfied: chroma-hnswlib==0.7.2 in /usr/local/lib/python3.10/dist-packages (from chromadb) (0.7.2)\n",
            "Requirement already satisfied: fastapi<0.100.0,>=0.95.2 in /usr/local/lib/python3.10/dist-packages (from chromadb) (0.99.1)\n",
            "Requirement already satisfied: uvicorn[standard]>=0.18.3 in /usr/local/lib/python3.10/dist-packages (from chromadb) (0.23.2)\n",
            "Requirement already satisfied: numpy>=1.21.6 in /usr/local/lib/python3.10/dist-packages (from chromadb) (1.23.5)\n",
            "Requirement already satisfied: posthog>=2.4.0 in /usr/local/lib/python3.10/dist-packages (from chromadb) (3.0.2)\n",
            "Requirement already satisfied: typing-extensions>=4.5.0 in /usr/local/lib/python3.10/dist-packages (from chromadb) (4.7.1)\n",
            "Requirement already satisfied: pulsar-client>=3.1.0 in /usr/local/lib/python3.10/dist-packages (from chromadb) (3.2.0)\n",
            "Requirement already satisfied: onnxruntime>=1.14.1 in /usr/local/lib/python3.10/dist-packages (from chromadb) (1.15.1)\n",
            "Requirement already satisfied: tokenizers>=0.13.2 in /usr/local/lib/python3.10/dist-packages (from chromadb) (0.13.3)\n",
            "Requirement already satisfied: pypika>=0.48.9 in /usr/local/lib/python3.10/dist-packages (from chromadb) (0.48.9)\n",
            "Collecting tqdm>=4.65.0 (from chromadb)\n",
            "  Using cached tqdm-4.66.1-py3-none-any.whl (78 kB)\n",
            "Requirement already satisfied: overrides>=7.3.1 in /usr/local/lib/python3.10/dist-packages (from chromadb) (7.4.0)\n",
            "Requirement already satisfied: importlib-resources in /usr/local/lib/python3.10/dist-packages (from chromadb) (6.0.1)\n",
            "Requirement already satisfied: bcrypt>=4.0.1 in /usr/local/lib/python3.10/dist-packages (from chromadb) (4.0.1)\n",
            "Requirement already satisfied: starlette<0.28.0,>=0.27.0 in /usr/local/lib/python3.10/dist-packages (from fastapi<0.100.0,>=0.95.2->chromadb) (0.27.0)\n",
            "Requirement already satisfied: coloredlogs in /usr/local/lib/python3.10/dist-packages (from onnxruntime>=1.14.1->chromadb) (15.0.1)\n",
            "Requirement already satisfied: flatbuffers in /usr/local/lib/python3.10/dist-packages (from onnxruntime>=1.14.1->chromadb) (23.5.26)\n",
            "Requirement already satisfied: packaging in /usr/local/lib/python3.10/dist-packages (from onnxruntime>=1.14.1->chromadb) (23.1)\n",
            "Requirement already satisfied: protobuf in /usr/local/lib/python3.10/dist-packages (from onnxruntime>=1.14.1->chromadb) (3.20.3)\n",
            "Requirement already satisfied: sympy in /usr/local/lib/python3.10/dist-packages (from onnxruntime>=1.14.1->chromadb) (1.12)\n",
            "Requirement already satisfied: six>=1.5 in /usr/local/lib/python3.10/dist-packages (from posthog>=2.4.0->chromadb) (1.16.0)\n",
            "Requirement already satisfied: monotonic>=1.5 in /usr/local/lib/python3.10/dist-packages (from posthog>=2.4.0->chromadb) (1.6)\n",
            "Requirement already satisfied: backoff>=1.10.0 in /usr/local/lib/python3.10/dist-packages (from posthog>=2.4.0->chromadb) (2.2.1)\n",
            "Requirement already satisfied: python-dateutil>2.1 in /usr/local/lib/python3.10/dist-packages (from posthog>=2.4.0->chromadb) (2.8.2)\n",
            "Requirement already satisfied: certifi in /usr/local/lib/python3.10/dist-packages (from pulsar-client>=3.1.0->chromadb) (2023.7.22)\n",
            "Requirement already satisfied: charset-normalizer<4,>=2 in /usr/local/lib/python3.10/dist-packages (from requests>=2.28->chromadb) (3.2.0)\n",
            "Requirement already satisfied: idna<4,>=2.5 in /usr/local/lib/python3.10/dist-packages (from requests>=2.28->chromadb) (3.4)\n",
            "Requirement already satisfied: urllib3<3,>=1.21.1 in /usr/local/lib/python3.10/dist-packages (from requests>=2.28->chromadb) (2.0.4)\n",
            "Requirement already satisfied: click>=7.0 in /usr/local/lib/python3.10/dist-packages (from uvicorn[standard]>=0.18.3->chromadb) (8.1.7)\n",
            "Requirement already satisfied: h11>=0.8 in /usr/local/lib/python3.10/dist-packages (from uvicorn[standard]>=0.18.3->chromadb) (0.14.0)\n",
            "Requirement already satisfied: httptools>=0.5.0 in /usr/local/lib/python3.10/dist-packages (from uvicorn[standard]>=0.18.3->chromadb) (0.6.0)\n",
            "Requirement already satisfied: python-dotenv>=0.13 in /usr/local/lib/python3.10/dist-packages (from uvicorn[standard]>=0.18.3->chromadb) (1.0.0)\n",
            "Requirement already satisfied: pyyaml>=5.1 in /usr/local/lib/python3.10/dist-packages (from uvicorn[standard]>=0.18.3->chromadb) (6.0.1)\n",
            "Requirement already satisfied: uvloop!=0.15.0,!=0.15.1,>=0.14.0 in /usr/local/lib/python3.10/dist-packages (from uvicorn[standard]>=0.18.3->chromadb) (0.17.0)\n",
            "Requirement already satisfied: watchfiles>=0.13 in /usr/local/lib/python3.10/dist-packages (from uvicorn[standard]>=0.18.3->chromadb) (0.20.0)\n",
            "Requirement already satisfied: websockets>=10.4 in /usr/local/lib/python3.10/dist-packages (from uvicorn[standard]>=0.18.3->chromadb) (11.0.3)\n",
            "Requirement already satisfied: anyio<5,>=3.4.0 in /usr/local/lib/python3.10/dist-packages (from starlette<0.28.0,>=0.27.0->fastapi<0.100.0,>=0.95.2->chromadb) (3.7.1)\n",
            "Requirement already satisfied: humanfriendly>=9.1 in /usr/local/lib/python3.10/dist-packages (from coloredlogs->onnxruntime>=1.14.1->chromadb) (10.0)\n",
            "Requirement already satisfied: mpmath>=0.19 in /usr/local/lib/python3.10/dist-packages (from sympy->onnxruntime>=1.14.1->chromadb) (1.3.0)\n",
            "Requirement already satisfied: sniffio>=1.1 in /usr/local/lib/python3.10/dist-packages (from anyio<5,>=3.4.0->starlette<0.28.0,>=0.27.0->fastapi<0.100.0,>=0.95.2->chromadb) (1.3.0)\n",
            "Requirement already satisfied: exceptiongroup in /usr/local/lib/python3.10/dist-packages (from anyio<5,>=3.4.0->starlette<0.28.0,>=0.27.0->fastapi<0.100.0,>=0.95.2->chromadb) (1.1.3)\n",
            "Installing collected packages: tqdm\n",
            "  Attempting uninstall: tqdm\n",
            "    Found existing installation: tqdm 4.64.1\n",
            "    Uninstalling tqdm-4.64.1:\n",
            "      Successfully uninstalled tqdm-4.64.1\n",
            "\u001b[31mERROR: pip's dependency resolver does not currently take into account all the packages that are installed. This behaviour is the source of the following dependency conflicts.\n",
            "clarifai 9.7.5 requires tqdm==4.64.1, but you have tqdm 4.66.1 which is incompatible.\u001b[0m\u001b[31m\n",
            "\u001b[0mSuccessfully installed tqdm-4.66.1\n"
          ]
        },
        {
          "output_type": "display_data",
          "data": {
            "application/vnd.colab-display-data+json": {
              "pip_warning": {
                "packages": [
                  "tqdm"
                ]
              }
            }
          },
          "metadata": {}
        },
        {
          "output_type": "stream",
          "name": "stdout",
          "text": [
            "Requirement already satisfied: lark in /usr/local/lib/python3.10/dist-packages (1.1.7)\n"
          ]
        }
      ]
    },
    {
      "cell_type": "code",
      "source": [
        "!pip install langchain"
      ],
      "metadata": {
        "id": "sB8VZrQcHMV9",
        "colab": {
          "base_uri": "https://localhost:8080/"
        },
        "outputId": "7d19e014-f0e3-4e95-87ed-ae018d19a5a6"
      },
      "execution_count": null,
      "outputs": [
        {
          "output_type": "stream",
          "name": "stdout",
          "text": [
            "Requirement already satisfied: langchain in /usr/local/lib/python3.10/dist-packages (0.0.274)\n",
            "Requirement already satisfied: PyYAML>=5.3 in /usr/local/lib/python3.10/dist-packages (from langchain) (6.0.1)\n",
            "Requirement already satisfied: SQLAlchemy<3,>=1.4 in /usr/local/lib/python3.10/dist-packages (from langchain) (2.0.20)\n",
            "Requirement already satisfied: aiohttp<4.0.0,>=3.8.3 in /usr/local/lib/python3.10/dist-packages (from langchain) (3.8.5)\n",
            "Requirement already satisfied: async-timeout<5.0.0,>=4.0.0 in /usr/local/lib/python3.10/dist-packages (from langchain) (4.0.3)\n",
            "Requirement already satisfied: dataclasses-json<0.6.0,>=0.5.7 in /usr/local/lib/python3.10/dist-packages (from langchain) (0.5.14)\n",
            "Requirement already satisfied: langsmith<0.1.0,>=0.0.21 in /usr/local/lib/python3.10/dist-packages (from langchain) (0.0.26)\n",
            "Requirement already satisfied: numexpr<3.0.0,>=2.8.4 in /usr/local/lib/python3.10/dist-packages (from langchain) (2.8.5)\n",
            "Requirement already satisfied: numpy<2,>=1 in /usr/local/lib/python3.10/dist-packages (from langchain) (1.23.5)\n",
            "Requirement already satisfied: pydantic<3,>=1 in /usr/local/lib/python3.10/dist-packages (from langchain) (1.10.12)\n",
            "Requirement already satisfied: requests<3,>=2 in /usr/local/lib/python3.10/dist-packages (from langchain) (2.31.0)\n",
            "Requirement already satisfied: tenacity<9.0.0,>=8.1.0 in /usr/local/lib/python3.10/dist-packages (from langchain) (8.2.3)\n",
            "Requirement already satisfied: attrs>=17.3.0 in /usr/local/lib/python3.10/dist-packages (from aiohttp<4.0.0,>=3.8.3->langchain) (23.1.0)\n",
            "Requirement already satisfied: charset-normalizer<4.0,>=2.0 in /usr/local/lib/python3.10/dist-packages (from aiohttp<4.0.0,>=3.8.3->langchain) (3.2.0)\n",
            "Requirement already satisfied: multidict<7.0,>=4.5 in /usr/local/lib/python3.10/dist-packages (from aiohttp<4.0.0,>=3.8.3->langchain) (6.0.4)\n",
            "Requirement already satisfied: yarl<2.0,>=1.0 in /usr/local/lib/python3.10/dist-packages (from aiohttp<4.0.0,>=3.8.3->langchain) (1.9.2)\n",
            "Requirement already satisfied: frozenlist>=1.1.1 in /usr/local/lib/python3.10/dist-packages (from aiohttp<4.0.0,>=3.8.3->langchain) (1.4.0)\n",
            "Requirement already satisfied: aiosignal>=1.1.2 in /usr/local/lib/python3.10/dist-packages (from aiohttp<4.0.0,>=3.8.3->langchain) (1.3.1)\n",
            "Requirement already satisfied: marshmallow<4.0.0,>=3.18.0 in /usr/local/lib/python3.10/dist-packages (from dataclasses-json<0.6.0,>=0.5.7->langchain) (3.20.1)\n",
            "Requirement already satisfied: typing-inspect<1,>=0.4.0 in /usr/local/lib/python3.10/dist-packages (from dataclasses-json<0.6.0,>=0.5.7->langchain) (0.9.0)\n",
            "Requirement already satisfied: typing-extensions>=4.2.0 in /usr/local/lib/python3.10/dist-packages (from pydantic<3,>=1->langchain) (4.7.1)\n",
            "Requirement already satisfied: idna<4,>=2.5 in /usr/local/lib/python3.10/dist-packages (from requests<3,>=2->langchain) (3.4)\n",
            "Requirement already satisfied: urllib3<3,>=1.21.1 in /usr/local/lib/python3.10/dist-packages (from requests<3,>=2->langchain) (2.0.4)\n",
            "Requirement already satisfied: certifi>=2017.4.17 in /usr/local/lib/python3.10/dist-packages (from requests<3,>=2->langchain) (2023.7.22)\n",
            "Requirement already satisfied: greenlet!=0.4.17 in /usr/local/lib/python3.10/dist-packages (from SQLAlchemy<3,>=1.4->langchain) (2.0.2)\n",
            "Requirement already satisfied: packaging>=17.0 in /usr/local/lib/python3.10/dist-packages (from marshmallow<4.0.0,>=3.18.0->dataclasses-json<0.6.0,>=0.5.7->langchain) (23.1)\n",
            "Requirement already satisfied: mypy-extensions>=0.3.0 in /usr/local/lib/python3.10/dist-packages (from typing-inspect<1,>=0.4.0->dataclasses-json<0.6.0,>=0.5.7->langchain) (1.0.0)\n"
          ]
        }
      ]
    },
    {
      "cell_type": "markdown",
      "source": [
        "# Importing necessary libraries"
      ],
      "metadata": {
        "id": "bbWZyvCIYNQZ"
      }
    },
    {
      "cell_type": "code",
      "source": [
        "# from transformers import AutoTokenizer, pipeline, logging\n",
        "# from auto_gptq import AutoGPTQForCausalLM, BaseQuantizeConfig\n",
        "# import argparse\n",
        "\n",
        "from langchain.llms import HuggingFacePipeline\n",
        "from langchain.vectorstores import Chroma, FAISS\n",
        "from langchain.text_splitter import RecursiveCharacterTextSplitter\n",
        "from langchain.embeddings import HuggingFaceEmbeddings\n",
        "from langchain.document_loaders import PyPDFDirectoryLoader\n",
        "from langchain.chains import ConversationalRetrievalChain, RetrievalQA, RetrievalQAWithSourcesChain\n",
        "from langchain.memory import ConversationBufferMemory\n",
        "import scipy\n",
        "\n",
        "# from faster_whisper import WhisperModel\n",
        "\n",
        "# from elevenlabs import generate, play, set_api_key\n",
        "# from IPython.display import Audio\n",
        "# from IPython.display import display\n",
        "import os\n",
        "# os.environ['elevenlabs_API_KEY'] = 'YOUR_elevenlabs_API_KEY'\n",
        "# set_api_key(os.environ['elevenlabs_API_KEY'])"
      ],
      "metadata": {
        "id": "8Y27J59IYLqR"
      },
      "execution_count": null,
      "outputs": []
    },
    {
      "cell_type": "markdown",
      "source": [
        "# Record Audio from Microphone"
      ],
      "metadata": {
        "id": "Eo3uIZ26OQms"
      }
    },
    {
      "cell_type": "code",
      "source": [
        "# \"\"\"\n",
        "# To write this piece of code I took inspiration/code from a lot of places.\n",
        "# It was late night, so I'm not sure how much I created or just copied o.O\n",
        "# Here are some of the possible references:\n",
        "# https://blog.addpipe.com/recording-audio-in-the-browser-using-pure-html5-and-minimal-javascript/\n",
        "# https://stackoverflow.com/a/18650249\n",
        "# https://hacks.mozilla.org/2014/06/easy-audio-capture-with-the-mediarecorder-api/\n",
        "# https://air.ghost.io/recording-to-an-audio-file-using-html5-and-js/\n",
        "# https://stackoverflow.com/a/49019356\n",
        "# \"\"\"\n",
        "# from IPython.display import HTML, Audio\n",
        "# from google.colab.output import eval_js\n",
        "# from base64 import b64decode\n",
        "# import numpy as np\n",
        "# from scipy.io.wavfile import read as wav_read\n",
        "# import io\n",
        "# import ffmpeg\n",
        "\n",
        "# AUDIO_HTML = \"\"\"\n",
        "# <script>\n",
        "# var my_div = document.createElement(\"DIV\");\n",
        "# var my_p = document.createElement(\"P\");\n",
        "# var my_btn = document.createElement(\"BUTTON\");\n",
        "# var t = document.createTextNode(\"Press to start recording\");\n",
        "\n",
        "# my_btn.appendChild(t);\n",
        "# //my_p.appendChild(my_btn);\n",
        "# my_div.appendChild(my_btn);\n",
        "# document.body.appendChild(my_div);\n",
        "\n",
        "# var base64data = 0;\n",
        "# var reader;\n",
        "# var recorder, gumStream;\n",
        "# var recordButton = my_btn;\n",
        "\n",
        "# var handleSuccess = function(stream) {\n",
        "#   gumStream = stream;\n",
        "#   var options = {\n",
        "#     //bitsPerSecond: 8000, //chrome seems to ignore, always 48k\n",
        "#     mimeType : 'audio/webm;codecs=opus'\n",
        "#     //mimeType : 'audio/webm;codecs=pcm'\n",
        "#   };\n",
        "#   //recorder = new MediaRecorder(stream, options);\n",
        "#   recorder = new MediaRecorder(stream);\n",
        "#   recorder.ondataavailable = function(e) {\n",
        "#     var url = URL.createObjectURL(e.data);\n",
        "#     var preview = document.createElement('audio');\n",
        "#     preview.controls = true;\n",
        "#     preview.src = url;\n",
        "#     document.body.appendChild(preview);\n",
        "\n",
        "#     reader = new FileReader();\n",
        "#     reader.readAsDataURL(e.data);\n",
        "#     reader.onloadend = function() {\n",
        "#       base64data = reader.result;\n",
        "#       //console.log(\"Inside FileReader:\" + base64data);\n",
        "#     }\n",
        "#   };\n",
        "#   recorder.start();\n",
        "#   };\n",
        "\n",
        "# recordButton.innerText = \"Recording... press to stop\";\n",
        "\n",
        "# navigator.mediaDevices.getUserMedia({audio: true}).then(handleSuccess);\n",
        "\n",
        "\n",
        "# function toggleRecording() {\n",
        "#   if (recorder && recorder.state == \"recording\") {\n",
        "#       recorder.stop();\n",
        "#       gumStream.getAudioTracks()[0].stop();\n",
        "#       recordButton.innerText = \"Saving the recording... pls wait!\"\n",
        "#   }\n",
        "# }\n",
        "\n",
        "# // https://stackoverflow.com/a/951057\n",
        "# function sleep(ms) {\n",
        "#   return new Promise(resolve => setTimeout(resolve, ms));\n",
        "# }\n",
        "\n",
        "# var data = new Promise(resolve=>{\n",
        "# //recordButton.addEventListener(\"click\", toggleRecording);\n",
        "# recordButton.onclick = ()=>{\n",
        "# toggleRecording()\n",
        "\n",
        "# sleep(2000).then(() => {\n",
        "#   // wait 2000ms for the data to be available...\n",
        "#   // ideally this should use something like await...\n",
        "#   //console.log(\"Inside data:\" + base64data)\n",
        "#   resolve(base64data.toString())\n",
        "\n",
        "# });\n",
        "\n",
        "# }\n",
        "# });\n",
        "\n",
        "# </script>\n",
        "# \"\"\"\n",
        "\n",
        "# def get_audio():\n",
        "#   display(HTML(AUDIO_HTML))\n",
        "#   data = eval_js(\"data\")\n",
        "#   binary = b64decode(data.split(',')[1])\n",
        "\n",
        "#   process = (ffmpeg\n",
        "#     .input('pipe:0')\n",
        "#     .output('pipe:1', format='wav')\n",
        "#     .run_async(pipe_stdin=True, pipe_stdout=True, pipe_stderr=True, quiet=True, overwrite_output=True)\n",
        "#   )\n",
        "#   output, err = process.communicate(input=binary)\n",
        "\n",
        "#   riff_chunk_size = len(output) - 8\n",
        "#   # Break up the chunk size into four bytes, held in b.\n",
        "#   q = riff_chunk_size\n",
        "#   b = []\n",
        "#   for i in range(4):\n",
        "#       q, r = divmod(q, 256)\n",
        "#       b.append(r)\n",
        "\n",
        "#   # Replace bytes 4:8 in proc.stdout with the actual size of the RIFF chunk.\n",
        "#   riff = output[:4] + bytes(b) + output[8:]\n",
        "\n",
        "#   sr, audio = wav_read(io.BytesIO(riff))\n",
        "\n",
        "#   return audio, sr"
      ],
      "metadata": {
        "id": "IjgCkAk1OVAN"
      },
      "execution_count": null,
      "outputs": []
    },
    {
      "cell_type": "markdown",
      "source": [
        "# Models prepairation and Implementaion"
      ],
      "metadata": {
        "id": "gYvaUpiNbA6m"
      }
    },
    {
      "cell_type": "code",
      "source": [
        "# use_triton = False\n",
        "\n",
        "# model_name_or_path = \"TheBloke/Llama-2-7b-Chat-GPTQ\"\n",
        "# model_basename = \"model\"\n",
        "\n",
        "# tokenizer = AutoTokenizer.from_pretrained(model_name_or_path, use_fast=True)\n",
        "\n",
        "# model = AutoGPTQForCausalLM.from_quantized(model_name_or_path,\n",
        "#         model_basename=model_basename,\n",
        "#         use_safetensors=True,\n",
        "#         trust_remote_code=True,\n",
        "#         device=\"cuda:0\",\n",
        "#         use_triton=use_triton,\n",
        "#         quantize_config=None)\n",
        "\n",
        "# https://huggingface.co/TheBloke/OpenOrca-Platypus2-13B-GPTQ\n",
        "\n",
        "# model_name_or_path = \"TheBloke/OpenOrca-Platypus2-13B-GPTQ\"\n",
        "\n",
        "# tokenizer = AutoTokenizer.from_pretrained(model_name_or_path, use_fast=True)\n",
        "\n",
        "# model = AutoGPTQForCausalLM.from_quantized(model_name_or_path,\n",
        "#         use_safetensors=True,\n",
        "#         trust_remote_code=False,\n",
        "#         device=\"cuda:0\",\n",
        "#         use_triton=use_triton,\n",
        "#         quantize_config=None)\n"
      ],
      "metadata": {
        "id": "A7ZUwH0iYYV4"
      },
      "execution_count": null,
      "outputs": []
    },
    {
      "cell_type": "code",
      "source": [
        "# pipe = pipeline(\n",
        "#     \"text-generation\",\n",
        "#     model=model,\n",
        "#     tokenizer=tokenizer,\n",
        "#     max_length=2000,\n",
        "#     # temperature=0,\n",
        "#     top_p=0.95,\n",
        "#     repetition_penalty=1.15\n",
        "# )\n",
        "\n",
        "# local_llm = HuggingFacePipeline(pipeline=pipe)"
      ],
      "metadata": {
        "id": "3Qe7TIbybNAU"
      },
      "execution_count": null,
      "outputs": []
    },
    {
      "cell_type": "code",
      "source": [
        "# audio_transcribe_model = WhisperModel(\"medium\")"
      ],
      "metadata": {
        "id": "7RGVeTSROo7h"
      },
      "execution_count": null,
      "outputs": []
    },
    {
      "cell_type": "code",
      "source": [
        "from langchain.llms import Clarifai\n",
        "from langchain.vectorstores import Clarifai as Clarifai_vectordb"
      ],
      "metadata": {
        "id": "JfXgxxuAIS5C"
      },
      "execution_count": null,
      "outputs": []
    },
    {
      "cell_type": "code",
      "source": [
        "# Please login and get your API key from  https://clarifai.com/settings/security\n",
        "from getpass import getpass\n",
        "#b39c822dc5554622896e5682a0eec108\n",
        "CLARIFAI_PAT = getpass()"
      ],
      "metadata": {
        "colab": {
          "base_uri": "https://localhost:8080/"
        },
        "id": "vWQBJWbSILnx",
        "outputId": "56e156a9-43df-4868-ae0e-231f9a2bc5eb"
      },
      "execution_count": null,
      "outputs": [
        {
          "name": "stdout",
          "output_type": "stream",
          "text": [
            "··········\n"
          ]
        }
      ]
    },
    {
      "cell_type": "code",
      "source": [
        "LLM_USER_ID = \"meta\"\n",
        "LLM_APP_ID = \"Llama-2\"\n",
        "LLM_MODEL_ID = 'llama2-70b-chat'#\"GPT-3_5-turbo\"\n",
        "\n",
        "EMBED_USER_ID = \"cohere\"\n",
        "EMBED_APP_ID = \"embed\"\n",
        "EMBED_MODEL_ID = 'cohere-text-to-embeddings'#\"GPT-3_5-turbo\"\n",
        "\n",
        "VECTORDB_USER_ID = \"ab00k\"\n",
        "VECTORDB_APP_ID = \"DocuChat\"\n",
        "VECTORDB_NUMBER_OF_DOCS = 1\n",
        "\n",
        "# You can provide a specific model version as the model_version_id arg.\n",
        "# MODEL_VERSION_ID = \"MODEL_VERSION_ID\""
      ],
      "metadata": {
        "id": "Z5IrJ910IbFf"
      },
      "execution_count": null,
      "outputs": []
    },
    {
      "cell_type": "code",
      "source": [
        "# Initialize a Clarifai LLM\n",
        "clarifai_llm = Clarifai(\n",
        "    pat=CLARIFAI_PAT, user_id=LLM_USER_ID, app_id=LLM_APP_ID, model_id=LLM_MODEL_ID\n",
        ")"
      ],
      "metadata": {
        "id": "EriJtVJiI38I"
      },
      "execution_count": null,
      "outputs": []
    },
    {
      "cell_type": "code",
      "source": [
        "from langchain.embeddings import ClarifaiEmbeddings\n",
        "clarifai_embedding_model = ClarifaiEmbeddings(\n",
        "    model_id=EMBED_MODEL_ID, pat=CLARIFAI_PAT, user_id=EMBED_USER_ID, app_id=EMBED_APP_ID\n",
        ")"
      ],
      "metadata": {
        "id": "QF-j0ykMX5bN"
      },
      "execution_count": null,
      "outputs": []
    },
    {
      "cell_type": "code",
      "source": [
        "# model_name = \"intfloat/e5-large-v2\"\n",
        "\n",
        "# embedding_model = HuggingFaceEmbeddings(model_name=model_name)"
      ],
      "metadata": {
        "id": "ALBozudMr5ui"
      },
      "execution_count": null,
      "outputs": []
    },
    {
      "cell_type": "markdown",
      "source": [
        "# Implementing Different modules"
      ],
      "metadata": {
        "id": "WKfakFxrZkB6"
      }
    },
    {
      "cell_type": "code",
      "source": [
        "def create_db(pdfs):\n",
        "    loader = PyPDFDirectoryLoader(pdfs)\n",
        "    pages = loader.load()\n",
        "\n",
        "    text_splitter = RecursiveCharacterTextSplitter(chunk_size=500, chunk_overlap=0)\n",
        "\n",
        "    docs = text_splitter.split_documents(pages)\n",
        "\n",
        "    # persist_directory = 'db'\n",
        "\n",
        "    # vector_db = Chroma.from_documents(documents=docs,\n",
        "    #                                 embedding=clarifai_embedding_model,\n",
        "    #                                 persist_directory=persist_directory)\n",
        "\n",
        "    # texts = [docs[i].page_content for i in range(len(docs))]\n",
        "\n",
        "    # metadatas = [docs[i].metadata for i in range(len(docs))]\n",
        "\n",
        "    # vector_db = Clarifai_vectordb.from_texts(\n",
        "    #     user_id=VECTORDB_USER_ID,\n",
        "    #     app_id=VECTORDB_APP_ID,\n",
        "    #     texts=texts,\n",
        "    #     pat=CLARIFAI_PAT,\n",
        "    #     number_of_docs=VECTORDB_NUMBER_OF_DOCS,\n",
        "    #     metadatas=metadatas,\n",
        "    # )\n",
        "\n",
        "    # vector_db = Clarifai_vectordb.from_documents(\n",
        "    #     user_id=VECTORDB_USER_ID,\n",
        "    #     app_id=VECTORDB_APP_ID,\n",
        "    #     documents=docs,\n",
        "    #     pat=CLARIFAI_PAT,\n",
        "    #     number_of_docs=VECTORDB_NUMBER_OF_DOCS,\n",
        "    # )\n",
        "\n",
        "    vector_db = FAISS.from_documents(docs, clarifai_embedding_model)\n",
        "\n",
        "    return vector_db"
      ],
      "metadata": {
        "id": "Zx7qAnDsIodT"
      },
      "execution_count": null,
      "outputs": []
    },
    {
      "cell_type": "code",
      "source": [
        "!mv /content/constitutionofpakistan.pdf /content/data"
      ],
      "metadata": {
        "id": "BMgp_7uOXFQh"
      },
      "execution_count": null,
      "outputs": []
    },
    {
      "cell_type": "code",
      "source": [
        "import inspect\n",
        "\n",
        "inspect.getsource(FAISS.from_documents)"
      ],
      "metadata": {
        "colab": {
          "base_uri": "https://localhost:8080/",
          "height": 87
        },
        "id": "gnMUg69gbcKZ",
        "outputId": "3a6e6f48-6f41-4bbc-b265-14a17aeb37df"
      },
      "execution_count": null,
      "outputs": [
        {
          "output_type": "execute_result",
          "data": {
            "text/plain": [
              "'    @classmethod\\n    def from_documents(\\n        cls: Type[VST],\\n        documents: List[Document],\\n        embedding: Embeddings,\\n        **kwargs: Any,\\n    ) -> VST:\\n        \"\"\"Return VectorStore initialized from documents and embeddings.\"\"\"\\n        texts = [d.page_content for d in documents]\\n        metadatas = [d.metadata for d in documents]\\n        return cls.from_texts(texts, embedding, metadatas=metadatas, **kwargs)\\n'"
            ],
            "application/vnd.google.colaboratory.intrinsic+json": {
              "type": "string"
            }
          },
          "metadata": {},
          "execution_count": 98
        }
      ]
    },
    {
      "cell_type": "code",
      "source": [
        "    @classmethod\n",
        "    def from_documents(\n",
        "        cls: Type[VST],\n",
        "        documents: List[Document],\n",
        "        embedding: Embeddings,\n",
        "        **kwargs: Any,\n",
        "    ) -> VST:\n",
        "        \"\"\"Return VectorStore initialized from documents and embeddings.\"\"\"\n",
        "        texts = [d.page_content for d in documents]\n",
        "        metadatas = [d.metadata for d in documents]\n",
        "        return cls.from_texts(texts, embedding, metadatas=metadatas, **kwargs)\n"
      ],
      "metadata": {
        "id": "o08c9pe7bjfr"
      },
      "execution_count": null,
      "outputs": []
    },
    {
      "cell_type": "code",
      "source": [
        "# loader = PyPDFDirectoryLoader('/content/data')\n",
        "# pages = loader.load()\n",
        "\n",
        "# text_splitter = RecursiveCharacterTextSplitter(chunk_size=500, chunk_overlap=0)\n",
        "\n",
        "# docs = text_splitter.split_documents(pages)"
      ],
      "metadata": {
        "id": "Dwtk4766EawA"
      },
      "execution_count": null,
      "outputs": []
    },
    {
      "cell_type": "code",
      "source": [
        "# docs[0].page_content"
      ],
      "metadata": {
        "id": "l2ICxgo4EkO6"
      },
      "execution_count": null,
      "outputs": []
    },
    {
      "cell_type": "code",
      "source": [
        "# docs[0].metadata"
      ],
      "metadata": {
        "id": "Q20YgfILE8eX"
      },
      "execution_count": null,
      "outputs": []
    },
    {
      "cell_type": "code",
      "source": [
        "# len(docs)"
      ],
      "metadata": {
        "id": "2QytZpBcFrQg"
      },
      "execution_count": null,
      "outputs": []
    },
    {
      "cell_type": "code",
      "source": [
        "db = create_db('/content/data')"
      ],
      "metadata": {
        "id": "eo_SosJAVhPc"
      },
      "execution_count": null,
      "outputs": []
    },
    {
      "cell_type": "code",
      "source": [
        "# doc = db.similarity_search('macroinception breast cancer detection')"
      ],
      "metadata": {
        "id": "ykcl63WvXiI-"
      },
      "execution_count": null,
      "outputs": []
    },
    {
      "cell_type": "code",
      "source": [
        "# doc[0].page_content"
      ],
      "metadata": {
        "id": "g0VYWLznYAlA"
      },
      "execution_count": null,
      "outputs": []
    },
    {
      "cell_type": "code",
      "source": [
        "# doc[0].metadata"
      ],
      "metadata": {
        "id": "ZHDMA1onYRM-"
      },
      "execution_count": null,
      "outputs": []
    },
    {
      "cell_type": "code",
      "source": [
        "# len(doc)"
      ],
      "metadata": {
        "id": "b7qOsr9gYcdw"
      },
      "execution_count": null,
      "outputs": []
    },
    {
      "cell_type": "code",
      "source": [
        "# from langchain.retrievers.self_query.base import SelfQueryRetriever\n",
        "# from langchain.chains.query_constructor.base import AttributeInfo\n",
        "# from langchain.prompts import PromptTemplate\n",
        "def create_chain(local_llm, vectordb):\n",
        "\n",
        "    # memory = ConversationBufferMemory(memory_key=\"chat_history\", return_messages=True)\n",
        "\n",
        "    # metadata_field_info = [\n",
        "    # AttributeInfo(\n",
        "    #     name=\"source\",\n",
        "    #     description=\"The neme of pdf\",\n",
        "    #     type=\"string or list[string]\",\n",
        "    # ),\n",
        "    # AttributeInfo(\n",
        "    #     name=\"page\",\n",
        "    #     description=\"The page no of the pdf\",\n",
        "    #     type=\"integer\",\n",
        "    # ),\n",
        "    # ]\n",
        "\n",
        "    # document_content_description = \"Information about the PDF's page and name of pdf\"\n",
        "    # retriever = SelfQueryRetriever.from_llm(\n",
        "    #     local_llm, vectordb, document_content_description, metadata_field_info, verbose=False,\n",
        "    #     search_kwargs={\"fetch_k\": 3}\n",
        "    # )\n",
        "\n",
        "    # prompt_template = '''\n",
        "    # Your name is Ash.\n",
        "    # Use the following pieces of context to answer the users question and that\n",
        "    # information consist of provided pdf details by user.\n",
        "    # If you don't know the answer, just apologies and say that you couldn't\n",
        "    # find relevent content to answer this question, don't try to\n",
        "    # make anything from yourself just use the provided context.\n",
        "    # And don't make any Follow-up Question and don't\n",
        "    # provide any further or additional information just answer the question.\n",
        "    # Always answer from the perspective of being Ash.\n",
        "    # ----------------\n",
        "    # {context}\n",
        "\n",
        "    # Question: {question}\n",
        "    # Helpful Answer:'''\n",
        "    # PROMPT = PromptTemplate(\n",
        "    #     template=prompt_template, input_variables=[\"context\", \"question\"]\n",
        "    # )\n",
        "\n",
        "    # chain_type_kwargs = {\"prompt\": PROMPT}\n",
        "\n",
        "\n",
        "    retriever = vectordb.as_retriever(search_type=\"mmr\", search_kwargs={'fetch_k': 3})\n",
        "\n",
        "    qa = RetrievalQA.from_chain_type(llm=local_llm,\n",
        "                                     chain_type=\"stuff\",\n",
        "                                     retriever=retriever,\n",
        "                                     return_source_documents=True,)\n",
        "                                      #memory=memory\n",
        "                                      # chain_type_kwargs=chain_type_kwargs)\n",
        "\n",
        "\n",
        "    qa.combine_documents_chain.llm_chain.prompt.template = '''\n",
        "    Your name is Ash.\n",
        "    Use the following pieces of context to answer the users question and that\n",
        "    information consist of provided pdf details by user.\n",
        "    If you don't know the answer, just apologies and say that you couldn't\n",
        "    find relevent content to answer this question, don't try to\n",
        "    make anything from yourself just use the provided context. And always answer\n",
        "    in conversationl freindly way. And don't make any Follow-up Question and don't\n",
        "    provide any further information just answer the question.\n",
        "    Always answer from the perspective of being Ash.\n",
        "    ----------------\n",
        "    {context}\n",
        "\n",
        "    Question: {question}\n",
        "    Helpful Answer:'''\n",
        "    return qa, retriever"
      ],
      "metadata": {
        "id": "6nXCJ4LDLR-5"
      },
      "execution_count": null,
      "outputs": []
    },
    {
      "cell_type": "code",
      "source": [
        "qa, retriever = create_chain(clarifai_llm, db)"
      ],
      "metadata": {
        "id": "hCFJReUkbF2D"
      },
      "execution_count": null,
      "outputs": []
    },
    {
      "cell_type": "code",
      "source": [
        "chat_history = []\n",
        "query = \"what does the constitution of pakistan says about equal rights\"\n",
        "inputs = {\n",
        "            'query': query,\n",
        "            'chat_history': chat_history\n",
        "        }\n",
        "# chat_history.append((query, result['result']))"
      ],
      "metadata": {
        "id": "iUi1uCQS7FWe"
      },
      "execution_count": null,
      "outputs": []
    },
    {
      "cell_type": "code",
      "source": [
        "result = qa(inputs, return_only_outputs=True)#qa.run(query)"
      ],
      "metadata": {
        "id": "yQvYlcLUbB05"
      },
      "execution_count": null,
      "outputs": []
    },
    {
      "cell_type": "code",
      "source": [
        "result['result']"
      ],
      "metadata": {
        "colab": {
          "base_uri": "https://localhost:8080/",
          "height": 87
        },
        "id": "A57OWOiB6XhQ",
        "outputId": "3b242f29-90b7-435b-cce6-02288090c27c"
      },
      "execution_count": null,
      "outputs": [
        {
          "output_type": "execute_result",
          "data": {
            "text/plain": [
              "'\\n    According to the Constitution of Pakistan, all citizens are equal before the law and are entitled to equal protection of the law, as stated in Article 25(1). Additionally, the Constitution prohibits discrimination on the basis of sex, and provides for special provisions to be made for the protection of women and children.\\n\\nPlease note that the answer is based on the information provided in the given PDF and does not contain any personal opinions or beliefs.'"
            ],
            "application/vnd.google.colaboratory.intrinsic+json": {
              "type": "string"
            }
          },
          "metadata": {},
          "execution_count": 105
        }
      ]
    },
    {
      "cell_type": "code",
      "source": [
        "import inspect\n",
        "\n",
        "inspect.getsource(Clarifai_vectordb)"
      ],
      "metadata": {
        "colab": {
          "base_uri": "https://localhost:8080/",
          "height": 174
        },
        "id": "bGnI1c9zhfo9",
        "outputId": "e064646b-56de-4240-d335-d536f6ef6dd3"
      },
      "execution_count": null,
      "outputs": [
        {
          "output_type": "execute_result",
          "data": {
            "text/plain": [
              "'class Clarifai(VectorStore):\\n    \"\"\"`Clarifai AI` vector store.\\n\\n    To use, you should have the ``clarifai`` python package installed.\\n\\n    Example:\\n        .. code-block:: python\\n\\n                from langchain.vectorstores import Clarifai\\n                from langchain.embeddings.openai import OpenAIEmbeddings\\n\\n                embeddings = OpenAIEmbeddings()\\n                vectorstore = Clarifai(\"langchain_store\", embeddings.embed_query)\\n    \"\"\"\\n\\n    def __init__(\\n        self,\\n        user_id: Optional[str] = None,\\n        app_id: Optional[str] = None,\\n        pat: Optional[str] = None,\\n        number_of_docs: Optional[int] = None,\\n        api_base: Optional[str] = None,\\n    ) -> None:\\n        \"\"\"Initialize with Clarifai client.\\n\\n        Args:\\n            user_id (Optional[str], optional): User ID. Defaults to None.\\n            app_id (Optional[str], optional): App ID. Defaults to None.\\n            pat (Optional[str], optional): Personal access token. Defaults to None.\\n            number_of_docs (Optional[int], optional): Number of documents to return\\n            during vector search. Defaults to None.\\n            api_base (Optional[str], optional): API base. Defaults to None.\\n\\n        Raises:\\n            ValueError: If user ID, app ID or personal access token is not provided.\\n        \"\"\"\\n        try:\\n            from clarifai.auth.helper import DEFAULT_BASE, ClarifaiAuthHelper\\n            from clarifai.client import create_stub\\n        except ImportError:\\n            raise ImportError(\\n                \"Could not import clarifai python package. \"\\n                \"Please install it with `pip install clarifai`.\"\\n            )\\n\\n        if api_base is None:\\n            self._api_base = DEFAULT_BASE\\n\\n        self._user_id = user_id or os.environ.get(\"CLARIFAI_USER_ID\")\\n        self._app_id = app_id or os.environ.get(\"CLARIFAI_APP_ID\")\\n        self._pat = pat or os.environ.get(\"CLARIFAI_PAT\")\\n        if self._user_id is None or self._app_id is None or self._pat is None:\\n            raise ValueError(\\n                \"Could not find CLARIFAI_USER_ID, CLARIFAI_APP_ID or\\\\\\n                CLARIFAI_PAT in your environment. \"\\n                \"Please set those env variables with a valid user ID, \\\\\\n                app ID and personal access token \\\\\\n                from https://clarifai.com/settings/security.\"\\n            )\\n\\n        self._auth = ClarifaiAuthHelper(\\n            user_id=self._user_id,\\n            app_id=self._app_id,\\n            pat=self._pat,\\n            base=self._api_base,\\n        )\\n        self._stub = create_stub(self._auth)\\n        self._userDataObject = self._auth.get_user_app_id_proto()\\n        self._number_of_docs = number_of_docs\\n\\n    def _post_texts_as_inputs(\\n        self, texts: List[str], metadatas: Optional[List[dict]] = None\\n    ) -> List[str]:\\n        \"\"\"Post text to Clarifai and return the ID of the input.\\n\\n        Args:\\n            text (str): Text to post.\\n            metadata (dict): Metadata to post.\\n\\n        Returns:\\n            str: ID of the input.\\n        \"\"\"\\n        try:\\n            from clarifai_grpc.grpc.api import resources_pb2, service_pb2\\n            from clarifai_grpc.grpc.api.status import status_code_pb2\\n            from google.protobuf.struct_pb2 import Struct  # type: ignore\\n        except ImportError as e:\\n            raise ImportError(\\n                \"Could not import clarifai python package. \"\\n                \"Please install it with `pip install clarifai`.\"\\n            ) from e\\n\\n        if metadatas is not None:\\n            assert len(list(texts)) == len(\\n                metadatas\\n            ), \"Number of texts and metadatas should be the same.\"\\n\\n        inputs = []\\n        for idx, text in enumerate(texts):\\n            if metadatas is not None:\\n                input_metadata = Struct()\\n                input_metadata.update(metadatas[idx])\\n            inputs.append(\\n                resources_pb2.Input(\\n                    data=resources_pb2.Data(\\n                        text=resources_pb2.Text(raw=text),\\n                        metadata=input_metadata,\\n                    )\\n                )\\n            )\\n\\n        post_inputs_response = self._stub.PostInputs(\\n            service_pb2.PostInputsRequest(\\n                user_app_id=self._userDataObject,\\n                inputs=inputs,\\n            )\\n        )\\n\\n        if post_inputs_response.status.code != status_code_pb2.SUCCESS:\\n            logger.error(post_inputs_response.status)\\n            raise Exception(\\n                \"Post inputs failed, status: \" + post_inputs_response.status.description\\n            )\\n\\n        input_ids = []\\n        for input in post_inputs_response.inputs:\\n            input_ids.append(input.id)\\n\\n        return input_ids\\n\\n    def add_texts(\\n        self,\\n        texts: Iterable[str],\\n        metadatas: Optional[List[dict]] = None,\\n        ids: Optional[List[str]] = None,\\n        **kwargs: Any,\\n    ) -> List[str]:\\n        \"\"\"Add texts to the Clarifai vectorstore. This will push the text\\n        to a Clarifai application.\\n        Application use a base workflow that create and store embedding for each text.\\n        Make sure you are using a base workflow that is compatible with text\\n        (such as Language Understanding).\\n\\n        Args:\\n            texts (Iterable[str]): Texts to add to the vectorstore.\\n            metadatas (Optional[List[dict]], optional): Optional list of metadatas.\\n            ids (Optional[List[str]], optional): Optional list of IDs.\\n\\n        Returns:\\n            List[str]: List of IDs of the added texts.\\n        \"\"\"\\n\\n        ltexts = list(texts)\\n        length = len(ltexts)\\n        assert length > 0, \"No texts provided to add to the vectorstore.\"\\n\\n        if metadatas is not None:\\n            assert length == len(\\n                metadatas\\n            ), \"Number of texts and metadatas should be the same.\"\\n\\n        batch_size = 32\\n        input_ids = []\\n        for idx in range(0, length, batch_size):\\n            try:\\n                batch_texts = ltexts[idx : idx + batch_size]\\n                batch_metadatas = (\\n                    metadatas[idx : idx + batch_size] if metadatas else None\\n                )\\n                result_ids = self._post_texts_as_inputs(batch_texts, batch_metadatas)\\n                input_ids.extend(result_ids)\\n                logger.debug(f\"Input {result_ids} posted successfully.\")\\n            except Exception as error:\\n                logger.warning(f\"Post inputs failed: {error}\")\\n                traceback.print_exc()\\n\\n        return input_ids\\n\\n    def similarity_search_with_score(\\n        self,\\n        query: str,\\n        k: int = 4,\\n        filter: Optional[dict] = None,\\n        namespace: Optional[str] = None,\\n        **kwargs: Any,\\n    ) -> List[Tuple[Document, float]]:\\n        \"\"\"Run similarity search with score using Clarifai.\\n\\n        Args:\\n            query (str): Query text to search for.\\n            k (int): Number of results to return. Defaults to 4.\\n            filter (Optional[Dict[str, str]]): Filter by metadata.\\n            Defaults to None.\\n\\n        Returns:\\n            List[Document]: List of documents most similar to the query text.\\n        \"\"\"\\n        try:\\n            from clarifai_grpc.grpc.api import resources_pb2, service_pb2\\n            from clarifai_grpc.grpc.api.status import status_code_pb2\\n            from google.protobuf import json_format  # type: ignore\\n            from google.protobuf.struct_pb2 import Struct  # type: ignore\\n        except ImportError as e:\\n            raise ImportError(\\n                \"Could not import clarifai python package. \"\\n                \"Please install it with `pip install clarifai`.\"\\n            ) from e\\n\\n        # Get number of docs to return\\n        if self._number_of_docs is not None:\\n            k = self._number_of_docs\\n\\n        req = service_pb2.PostAnnotationsSearchesRequest(\\n            user_app_id=self._userDataObject,\\n            searches=[\\n                resources_pb2.Search(\\n                    query=resources_pb2.Query(\\n                        ranks=[\\n                            resources_pb2.Rank(\\n                                annotation=resources_pb2.Annotation(\\n                                    data=resources_pb2.Data(\\n                                        text=resources_pb2.Text(raw=query),\\n                                    )\\n                                )\\n                            )\\n                        ]\\n                    )\\n                )\\n            ],\\n            pagination=service_pb2.Pagination(page=1, per_page=k),\\n        )\\n\\n        # Add filter by metadata if provided.\\n        if filter is not None:\\n            search_metadata = Struct()\\n            search_metadata.update(filter)\\n            f = req.searches[0].query.filters.add()\\n            f.annotation.data.metadata.update(search_metadata)\\n\\n        post_annotations_searches_response = self._stub.PostAnnotationsSearches(req)\\n\\n        # Check if search was successful\\n        if post_annotations_searches_response.status.code != status_code_pb2.SUCCESS:\\n            raise Exception(\\n                \"Post searches failed, status: \"\\n                + post_annotations_searches_response.status.description\\n            )\\n\\n        # Retrieve hits\\n        hits = post_annotations_searches_response.hits\\n\\n        executor = ThreadPoolExecutor(max_workers=10)\\n\\n        def hit_to_document(hit: resources_pb2.Hit) -> Tuple[Document, float]:\\n            metadata = json_format.MessageToDict(hit.input.data.metadata)\\n            h = {\"Authorization\": f\"Key {self._auth.pat}\"}\\n            request = requests.get(hit.input.data.text.url, headers=h)\\n\\n            # override encoding by real educated guess as provided by chardet\\n            request.encoding = request.apparent_encoding\\n            requested_text = request.text\\n\\n            logger.debug(\\n                f\"\\\\tScore {hit.score:.2f} for annotation: {hit.annotation.id}\\\\\\n                off input: {hit.input.id}, text: {requested_text[:125]}\"\\n            )\\n            return (Document(page_content=requested_text, metadata=metadata), hit.score)\\n\\n        # Iterate over hits and retrieve metadata and text\\n        futures = [executor.submit(hit_to_document, hit) for hit in hits]\\n        docs_and_scores = [future.result() for future in futures]\\n\\n        return docs_and_scores\\n\\n    def similarity_search(\\n        self,\\n        query: str,\\n        k: int = 4,\\n        **kwargs: Any,\\n    ) -> List[Document]:\\n        \"\"\"Run similarity search using Clarifai.\\n\\n        Args:\\n            query: Text to look up documents similar to.\\n            k: Number of Documents to return. Defaults to 4.\\n\\n        Returns:\\n            List of Documents most similar to the query and score for each\\n        \"\"\"\\n        docs_and_scores = self.similarity_search_with_score(query, **kwargs)\\n        return [doc for doc, _ in docs_and_scores]\\n\\n    @classmethod\\n    def from_texts(\\n        cls,\\n        texts: List[str],\\n        embedding: Optional[Embeddings] = None,\\n        metadatas: Optional[List[dict]] = None,\\n        user_id: Optional[str] = None,\\n        app_id: Optional[str] = None,\\n        pat: Optional[str] = None,\\n        number_of_docs: Optional[int] = None,\\n        api_base: Optional[str] = None,\\n        **kwargs: Any,\\n    ) -> Clarifai:\\n        \"\"\"Create a Clarifai vectorstore from a list of texts.\\n\\n        Args:\\n            user_id (str): User ID.\\n            app_id (str): App ID.\\n            texts (List[str]): List of texts to add.\\n            pat (Optional[str]): Personal access token. Defaults to None.\\n            number_of_docs (Optional[int]): Number of documents to return\\n            during vector search. Defaults to None.\\n            api_base (Optional[str]): API base. Defaults to None.\\n            metadatas (Optional[List[dict]]): Optional list of metadatas.\\n            Defaults to None.\\n\\n        Returns:\\n            Clarifai: Clarifai vectorstore.\\n        \"\"\"\\n        clarifai_vector_db = cls(\\n            user_id=user_id,\\n            app_id=app_id,\\n            pat=pat,\\n            number_of_docs=number_of_docs,\\n            api_base=api_base,\\n        )\\n        clarifai_vector_db.add_texts(texts=texts, metadatas=metadatas)\\n        return clarifai_vector_db\\n\\n    @classmethod\\n    def from_documents(\\n        cls,\\n        documents: List[Document],\\n        embedding: Optional[Embeddings] = None,\\n        user_id: Optional[str] = None,\\n        app_id: Optional[str] = None,\\n        pat: Optional[str] = None,\\n        number_of_docs: Optional[int] = None,\\n        api_base: Optional[str] = None,\\n        **kwargs: Any,\\n    ) -> Clarifai:\\n        \"\"\"Create a Clarifai vectorstore from a list of documents.\\n\\n        Args:\\n            user_id (str): User ID.\\n            app_id (str): App ID.\\n            documents (List[Document]): List of documents to add.\\n            pat (Optional[str]): Personal access token. Defaults to None.\\n            number_of_docs (Optional[int]): Number of documents to return\\n            during vector search. Defaults to None.\\n            api_base (Optional[str]): API base. Defaults to None.\\n\\n        Returns:\\n            Clarifai: Clarifai vectorstore.\\n        \"\"\"\\n        texts = [doc.page_content for doc in documents]\\n        metadatas = [doc.metadata for doc in documents]\\n        return cls.from_texts(\\n            user_id=user_id,\\n            app_id=app_id,\\n            texts=texts,\\n            pat=pat,\\n            number_of_docs=number_of_docs,\\n            api_base=api_base,\\n            metadatas=metadatas,\\n        )\\n'"
            ],
            "application/vnd.google.colaboratory.intrinsic+json": {
              "type": "string"
            }
          },
          "metadata": {},
          "execution_count": 39
        }
      ]
    },
    {
      "cell_type": "code",
      "source": [
        "result.keys()"
      ],
      "metadata": {
        "colab": {
          "base_uri": "https://localhost:8080/"
        },
        "id": "GO9b6yaMgdeI",
        "outputId": "1c85807b-f416-4240-8423-65782ca9d5ec"
      },
      "execution_count": null,
      "outputs": [
        {
          "output_type": "execute_result",
          "data": {
            "text/plain": [
              "dict_keys(['result', 'source_documents'])"
            ]
          },
          "metadata": {},
          "execution_count": 19
        }
      ]
    },
    {
      "cell_type": "code",
      "source": [
        "[result['source_documents'][i].metadata for i in range(len())]"
      ],
      "metadata": {
        "colab": {
          "base_uri": "https://localhost:8080/"
        },
        "id": "j9EO5w__8Vfi",
        "outputId": "9cd7d5b5-e70c-4856-82bb-51b65f0d615c"
      },
      "execution_count": null,
      "outputs": [
        {
          "output_type": "execute_result",
          "data": {
            "text/plain": [
              "{'page': 0, 'source': '/content/data/AbdulBasitResume.pdf'}"
            ]
          },
          "metadata": {},
          "execution_count": 23
        }
      ]
    },
    {
      "cell_type": "code",
      "source": [
        "def remove_duplicate_dict(list_of_dict):\n",
        "    unique_dictionaries = []\n",
        "    seen = set()  # Keep track of seen dictionaries\n",
        "\n",
        "    for d in list_of_dict:\n",
        "        # Convert the dictionary to a frozenset to make it hashable\n",
        "        frozen_d = frozenset(d.items())\n",
        "\n",
        "        if frozen_d not in seen:\n",
        "            seen.add(frozen_d)\n",
        "            unique_dictionaries.append(d)\n",
        "\n",
        "    return unique_dictionaries"
      ],
      "metadata": {
        "id": "BmgyyrjZ_xxG"
      },
      "execution_count": null,
      "outputs": []
    },
    {
      "cell_type": "code",
      "source": [
        "import fitz  # PyMuPDF\n",
        "from PIL import Image\n",
        "\n",
        "def convert_pdf_page_to_pil_image(pdf_data):\n",
        "    \"\"\"\n",
        "    Convert a specific page from a PDF to a PIL image.\n",
        "\n",
        "    Args:\n",
        "        pdf_data (dict): A dictionary containing 'page' (page number) and 'source' (PDF file path) keys.\n",
        "\n",
        "    Returns:\n",
        "        PIL.Image.Image: The converted image.\n",
        "    \"\"\"\n",
        "    page_number = pdf_data.get('page', 0)\n",
        "    pdf_source = pdf_data.get('source')\n",
        "\n",
        "    if not pdf_source:\n",
        "        raise ValueError(\"Source PDF file path is missing.\")\n",
        "\n",
        "    try:\n",
        "        pdf_document = fitz.open(pdf_source)\n",
        "        if 0 <= page_number < pdf_document.page_count:\n",
        "            pdf_page = pdf_document[page_number]\n",
        "            image = pdf_page.get_pixmap()\n",
        "            pil_image = Image.frombytes(\"RGB\", [image.width, image.height], image.samples)\n",
        "            return pil_image\n",
        "        else:\n",
        "            raise ValueError(\"Invalid page number.\")\n",
        "    except Exception as e:\n",
        "        print(f\"Error: {e}\")\n",
        "        return None\n",
        "    finally:\n",
        "        if pdf_document:\n",
        "            pdf_document.close()\n",
        "\n",
        "# Example usage\n",
        "pdf_data = {'page': 0, 'source': '/content/data/AbdulBasitResume.pdf'}\n",
        "pil_image = convert_pdf_page_to_pil_image(pdf_data)\n",
        "pil_image"
      ],
      "metadata": {
        "colab": {
          "base_uri": "https://localhost:8080/",
          "height": 859
        },
        "id": "GxNJBcNUG9i8",
        "outputId": "c52cb37c-fe54-4744-809e-13863570b03f"
      },
      "execution_count": null,
      "outputs": [
        {
          "output_type": "execute_result",
          "data": {
            "text/plain": [
              "<PIL.Image.Image image mode=RGB size=595x842>"
            ],
            "image/png": "[encoded data removed]"
          },
          "metadata": {},
          "execution_count": 54
        }
      ]
    },
    {
      "cell_type": "code",
      "source": [
        "# result['source_documents'][0].page_content"
      ],
      "metadata": {
        "colab": {
          "base_uri": "https://localhost:8080/",
          "height": 105
        },
        "id": "X0_Knqu-QVJJ",
        "outputId": "9c58f6cd-2add-4a0b-f7c7-61980e20b321"
      },
      "execution_count": null,
      "outputs": [
        {
          "output_type": "execute_result",
          "data": {
            "text/plain": [
              "'Abdul Basit\\nhttps://www .linkedin.com/in/ab00k  | abdulbasitab00k@gmail.com  | abdulbasit00k.netlify .app/\\nEXPERIENCE\\nMACROINCEPTION.AI Remote\\nData Science/Machine Learning INTERN  - Dec 2022 Present\\nDemonstrated a strong commitment to continuous learning, consistently undertaking projects and assignments to enhance expertise in the field.\\nAccomplished the collection of data from diverse sources and utilized it ef fectively to develop a flower classifier , aiding in the selection of suitable'"
            ],
            "application/vnd.google.colaboratory.intrinsic+json": {
              "type": "string"
            }
          },
          "metadata": {},
          "execution_count": 35
        }
      ]
    },
    {
      "cell_type": "code",
      "source": [
        "# def record_audio():\n",
        "#     audio, sr = get_audio()\n",
        "#     scipy.io.wavfile.write('recording.wav', sr, audio)"
      ],
      "metadata": {
        "id": "Hw8B_8VvO-vK"
      },
      "execution_count": null,
      "outputs": []
    },
    {
      "cell_type": "code",
      "source": [
        "# def transcribe_audio():\n",
        "#     text = None\n",
        "\n",
        "#     segments, info = audio_transcribe_model.transcribe(\"/content/recording.wav\")\n",
        "\n",
        "#     for segment in segments:\n",
        "#         text = segment.text\n",
        "\n",
        "#     os.remove('/content/recording.wav')\n",
        "\n",
        "#     return text\n"
      ],
      "metadata": {
        "id": "iLdnyLQ1PitB"
      },
      "execution_count": null,
      "outputs": []
    },
    {
      "cell_type": "code",
      "source": [
        "# def play_audio(text):\n",
        "#     audio = generate(\n",
        "#         text=text,\n",
        "#         voice=\"Bella\",\n",
        "#         model='eleven_multilingual_v1'\n",
        "#     )\n",
        "\n",
        "#     audio_clip = Audio(audio, autoplay=True)\n",
        "#     display(audio_clip)"
      ],
      "metadata": {
        "id": "VHRNtClgQZdA"
      },
      "execution_count": null,
      "outputs": []
    }
  ]
}